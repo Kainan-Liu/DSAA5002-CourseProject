{
 "cells": [
  {
   "cell_type": "markdown",
   "metadata": {},
   "source": [
    "## Task 1--Sentiment Analysis"
   ]
  },
  {
   "cell_type": "code",
   "execution_count": null,
   "metadata": {},
   "outputs": [],
   "source": [
    "import pandas as pd\n",
    "from data import AShareData, NewsData\n",
    "from model import BertWrapper, LogisticRegressor\n",
    "from utils import Task1_output\n",
    "import matplotlib.pyplot as plt"
   ]
  },
  {
   "cell_type": "code",
   "execution_count": 2,
   "metadata": {},
   "outputs": [],
   "source": [
    "A_share_data = AShareData(data_dir=\"../Data/A-share_list.json\")\n",
    "news_data = NewsData(data_dir=\"../Data/News.xlsx\")"
   ]
  },
  {
   "cell_type": "code",
   "execution_count": 3,
   "metadata": {},
   "outputs": [],
   "source": [
    "name_list = A_share_data.getNameList"
   ]
  },
  {
   "cell_type": "markdown",
   "metadata": {},
   "source": [
    "### Easily using force brute search on news data"
   ]
  },
  {
   "cell_type": "code",
   "execution_count": 4,
   "metadata": {},
   "outputs": [
    {
     "name": "stderr",
     "output_type": "stream",
     "text": [
      "                                                          \r"
     ]
    }
   ],
   "source": [
    "clean_data, noise_data = news_data.force_denoise(name_list=name_list)"
   ]
  },
  {
   "cell_type": "code",
   "execution_count": 5,
   "metadata": {},
   "outputs": [],
   "source": [
    "# After the brute force search, we can get the data with explicit A-share company name\n",
    "name_list = A_share_data.getNameList\n",
    "companyName_dict = news_data.Explicit_Company_list(name_list)\n",
    "companyName_dict_df = pd.Series(companyName_dict, name = \"Explicit_Company\")\n",
    "companyName_dict_df.to_csv(\"../Data/name.csv\", index=False)"
   ]
  },
  {
   "cell_type": "code",
   "execution_count": 6,
   "metadata": {},
   "outputs": [
    {
     "name": "stdout",
     "output_type": "stream",
     "text": [
      "(473199, 5)\n"
     ]
    },
    {
     "data": {
      "text/html": [
       "<div>\n",
       "<style scoped>\n",
       "    .dataframe tbody tr th:only-of-type {\n",
       "        vertical-align: middle;\n",
       "    }\n",
       "\n",
       "    .dataframe tbody tr th {\n",
       "        vertical-align: top;\n",
       "    }\n",
       "\n",
       "    .dataframe thead th {\n",
       "        text-align: right;\n",
       "    }\n",
       "</style>\n",
       "<table border=\"1\" class=\"dataframe\">\n",
       "  <thead>\n",
       "    <tr style=\"text-align: right;\">\n",
       "      <th></th>\n",
       "      <th>NewsID</th>\n",
       "      <th>Title</th>\n",
       "      <th>NewsContent</th>\n",
       "      <th>NewsSource</th>\n",
       "      <th>text</th>\n",
       "    </tr>\n",
       "  </thead>\n",
       "  <tbody>\n",
       "    <tr>\n",
       "      <th>0</th>\n",
       "      <td>1</td>\n",
       "      <td>建设银行原董事长张恩照一审被判15年</td>\n",
       "      <td>本报记者 田雨 李京华    　　中国建设银行股份有限公司原董事长张恩照受贿案３日一审宣...</td>\n",
       "      <td>中国证券报</td>\n",
       "      <td>建设银行原董事长张恩照一审被判15年.　　本报记者 田雨 李京华    　　中国建设银行股份...</td>\n",
       "    </tr>\n",
       "    <tr>\n",
       "      <th>1</th>\n",
       "      <td>2</td>\n",
       "      <td>农行信用卡中心搬到上海滩</td>\n",
       "      <td>中国农业银行信用卡中心由北京搬到上海了！  　　农行行长杨明生日前在信用卡中心揭牌仪式上...</td>\n",
       "      <td>人民日报</td>\n",
       "      <td>农行信用卡中心搬到上海滩.　　中国农业银行信用卡中心由北京搬到上海了！  　　农行行长杨明生...</td>\n",
       "    </tr>\n",
       "    <tr>\n",
       "      <th>2</th>\n",
       "      <td>3</td>\n",
       "      <td>外运发展：价值型蓝筹股补涨要求强烈</td>\n",
       "      <td>在新基金快速发行以及申购资金回流的情况下，市场总体上呈现资金流动性过剩格局，考虑到现阶段...</td>\n",
       "      <td>杭州新希望</td>\n",
       "      <td>外运发展：价值型蓝筹股补涨要求强烈.　　在新基金快速发行以及申购资金回流的情况下，市场总体上...</td>\n",
       "    </tr>\n",
       "    <tr>\n",
       "      <th>3</th>\n",
       "      <td>4</td>\n",
       "      <td>胜利股份：稳步走强形成标准上升通道</td>\n",
       "      <td>胜利股份（000407）公司子公司填海造地2800亩，以青岛的地价估算，静态价值在10亿...</td>\n",
       "      <td>源达投资</td>\n",
       "      <td>胜利股份：稳步走强形成标准上升通道.　　胜利股份（000407）公司子公司填海造地2800亩...</td>\n",
       "    </tr>\n",
       "    <tr>\n",
       "      <th>7</th>\n",
       "      <td>8</td>\n",
       "      <td>南风化工：钾肥三雄之一 被\"中化\"相中</td>\n",
       "      <td>由于全球最大的俄罗斯Uralkaly钾矿被淹，产量大减，同时满洲里口岸铁路在修复线，导致...</td>\n",
       "      <td>银河证券</td>\n",
       "      <td>南风化工：钾肥三雄之一 被\"中化\"相中.　　由于全球最大的俄罗斯Uralkaly钾矿被淹，产...</td>\n",
       "    </tr>\n",
       "  </tbody>\n",
       "</table>\n",
       "</div>"
      ],
      "text/plain": [
       "   NewsID                Title  \\\n",
       "0       1   建设银行原董事长张恩照一审被判15年   \n",
       "1       2         农行信用卡中心搬到上海滩   \n",
       "2       3    外运发展：价值型蓝筹股补涨要求强烈   \n",
       "3       4    胜利股份：稳步走强形成标准上升通道   \n",
       "7       8  南风化工：钾肥三雄之一 被\"中化\"相中   \n",
       "\n",
       "                                         NewsContent NewsSource  \\\n",
       "0  　　本报记者 田雨 李京华    　　中国建设银行股份有限公司原董事长张恩照受贿案３日一审宣...      中国证券报   \n",
       "1  　　中国农业银行信用卡中心由北京搬到上海了！  　　农行行长杨明生日前在信用卡中心揭牌仪式上...       人民日报   \n",
       "2  　　在新基金快速发行以及申购资金回流的情况下，市场总体上呈现资金流动性过剩格局，考虑到现阶段...      杭州新希望   \n",
       "3  　　胜利股份（000407）公司子公司填海造地2800亩，以青岛的地价估算，静态价值在10亿...       源达投资   \n",
       "7  　　由于全球最大的俄罗斯Uralkaly钾矿被淹，产量大减，同时满洲里口岸铁路在修复线，导致...       银河证券   \n",
       "\n",
       "                                                text  \n",
       "0  建设银行原董事长张恩照一审被判15年.　　本报记者 田雨 李京华    　　中国建设银行股份...  \n",
       "1  农行信用卡中心搬到上海滩.　　中国农业银行信用卡中心由北京搬到上海了！  　　农行行长杨明生...  \n",
       "2  外运发展：价值型蓝筹股补涨要求强烈.　　在新基金快速发行以及申购资金回流的情况下，市场总体上...  \n",
       "3  胜利股份：稳步走强形成标准上升通道.　　胜利股份（000407）公司子公司填海造地2800亩...  \n",
       "7  南风化工：钾肥三雄之一 被\"中化\"相中.　　由于全球最大的俄罗斯Uralkaly钾矿被淹，产...  "
      ]
     },
     "execution_count": 6,
     "metadata": {},
     "output_type": "execute_result"
    }
   ],
   "source": [
    "clean_data.to_csv(\"../Data/clean_data.csv\")\n",
    "print(clean_data.shape)\n",
    "clean_data.head()"
   ]
  },
  {
   "cell_type": "markdown",
   "metadata": {},
   "source": [
    "### Pretrained Bert-Model(hw2942/bert-base-chinese-finetuning-financial-news-sentiment-v2)\n",
    "https://huggingface.co/hw2942/bert-base-chinese-finetuning-financial-news-sentiment-v2\n",
    "- **Great for Chinese Financial News sentiment analysis**\n",
    "- **Label the data using LLM can reduce a lot of time**"
   ]
  },
  {
   "attachments": {
    "f35e2d4d-56cf-47a0-b15b-bb4a41d63ae1.png": {
     "image/png": "[encoded data removed]"
    }
   },
   "cell_type": "markdown",
   "metadata": {},
   "source": [
    "![image.png](attachment:f35e2d4d-56cf-47a0-b15b-bb4a41d63ae1.png)"
   ]
  },
  {
   "cell_type": "code",
   "execution_count": 7,
   "metadata": {},
   "outputs": [
    {
     "name": "stdout",
     "output_type": "stream",
     "text": [
      "Begin Training!\n"
     ]
    },
    {
     "name": "stderr",
     "output_type": "stream",
     "text": [
      "                                                     \r"
     ]
    }
   ],
   "source": [
    "Bert = BertWrapper(\"../checkpoints\")\n",
    "outputs = Bert.predict(batch_size=4, dataPath=\"../Data/clean_data.csv\")"
   ]
  },
  {
   "cell_type": "code",
   "execution_count": 8,
   "metadata": {},
   "outputs": [
    {
     "name": "stdout",
     "output_type": "stream",
     "text": [
      "========> label: Negative: 0; Postive: 1\n"
     ]
    },
    {
     "data": {
      "text/plain": [
       "(473199,)"
      ]
     },
     "execution_count": 8,
     "metadata": {},
     "output_type": "execute_result"
    }
   ],
   "source": [
    "labels = Bert.convert_label(outputs=outputs)\n",
    "labels.shape"
   ]
  },
  {
   "cell_type": "code",
   "execution_count": 9,
   "metadata": {},
   "outputs": [],
   "source": [
    "Task1_df = Task1_output(Bert.dataset, labels)"
   ]
  },
  {
   "cell_type": "markdown",
   "metadata": {},
   "source": [
    "### Coarse to Fine\n",
    "- **Bert_Tokenizer for Text representation**\n",
    "\n",
    "- **Simple three layers MLP**"
   ]
  },
  {
   "cell_type": "markdown",
   "metadata": {},
   "source": [
    "#### Step1: Find the uncertainty and certainty data"
   ]
  },
  {
   "cell_type": "code",
   "execution_count": 10,
   "metadata": {},
   "outputs": [],
   "source": [
    "sure_row_indices, unsure_row_indices = Bert.select_by_certainty(outputs, threshold=0.6)"
   ]
  },
  {
   "cell_type": "code",
   "execution_count": 11,
   "metadata": {},
   "outputs": [],
   "source": [
    "train_df = Task1_df.iloc[sure_row_indices, :]\n",
    "test_df = Task1_df.iloc[unsure_row_indices, :]"
   ]
  },
  {
   "cell_type": "code",
   "execution_count": 12,
   "metadata": {},
   "outputs": [],
   "source": [
    "train_df = train_df.reset_index()\n",
    "test_df = test_df.reset_index()"
   ]
  },
  {
   "cell_type": "markdown",
   "metadata": {},
   "source": [
    "#### Step2: Train a simple MLP model on certainty label given by the LLM"
   ]
  },
  {
   "cell_type": "code",
   "execution_count": 13,
   "metadata": {},
   "outputs": [
    {
     "name": "stdout",
     "output_type": "stream",
     "text": [
      "====>Begin Training!\n"
     ]
    },
    {
     "name": "stderr",
     "output_type": "stream",
     "text": [
      "                                                      "
     ]
    },
    {
     "name": "stdout",
     "output_type": "stream",
     "text": [
      "====>Stop Training\n"
     ]
    },
    {
     "name": "stderr",
     "output_type": "stream",
     "text": [
      "\r"
     ]
    }
   ],
   "source": [
    "logisticRegressor = LogisticRegressor()\n",
    "logisticRegressor.train(dataframe=train_df, epochs=2, batch_size=16)"
   ]
  },
  {
   "cell_type": "markdown",
   "metadata": {},
   "source": [
    "#### Step3: ReLabel the uncertainty label given by the LLM using the MLP model"
   ]
  },
  {
   "cell_type": "code",
   "execution_count": 14,
   "metadata": {},
   "outputs": [],
   "source": [
    "predict_label = logisticRegressor.predict(test_df)"
   ]
  },
  {
   "cell_type": "markdown",
   "metadata": {},
   "source": [
    "### Save the result"
   ]
  },
  {
   "cell_type": "code",
   "execution_count": 21,
   "metadata": {},
   "outputs": [
    {
     "data": {
      "text/html": [
       "<div>\n",
       "<style scoped>\n",
       "    .dataframe tbody tr th:only-of-type {\n",
       "        vertical-align: middle;\n",
       "    }\n",
       "\n",
       "    .dataframe tbody tr th {\n",
       "        vertical-align: top;\n",
       "    }\n",
       "\n",
       "    .dataframe thead th {\n",
       "        text-align: right;\n",
       "    }\n",
       "</style>\n",
       "<table border=\"1\" class=\"dataframe\">\n",
       "  <thead>\n",
       "    <tr style=\"text-align: right;\">\n",
       "      <th></th>\n",
       "      <th>NewsID</th>\n",
       "      <th>NewsContent</th>\n",
       "      <th>Explicit_Company</th>\n",
       "      <th>label</th>\n",
       "    </tr>\n",
       "  </thead>\n",
       "  <tbody>\n",
       "    <tr>\n",
       "      <th>0</th>\n",
       "      <td>1</td>\n",
       "      <td>本报记者 田雨 李京华    　　中国建设银行股份有限公司原董事长张恩照受贿案３日一审宣...</td>\n",
       "      <td>['建设银行']</td>\n",
       "      <td>0</td>\n",
       "    </tr>\n",
       "    <tr>\n",
       "      <th>1</th>\n",
       "      <td>2</td>\n",
       "      <td>中国农业银行信用卡中心由北京搬到上海了！  　　农行行长杨明生日前在信用卡中心揭牌仪式上...</td>\n",
       "      <td>['农业银行']</td>\n",
       "      <td>1</td>\n",
       "    </tr>\n",
       "    <tr>\n",
       "      <th>2</th>\n",
       "      <td>3</td>\n",
       "      <td>在新基金快速发行以及申购资金回流的情况下，市场总体上呈现资金流动性过剩格局，考虑到现阶段...</td>\n",
       "      <td>['外运发展', '中国国航']</td>\n",
       "      <td>1</td>\n",
       "    </tr>\n",
       "    <tr>\n",
       "      <th>3</th>\n",
       "      <td>4</td>\n",
       "      <td>胜利股份（000407）公司子公司填海造地2800亩，以青岛的地价估算，静态价值在10亿...</td>\n",
       "      <td>['胜利股份']</td>\n",
       "      <td>1</td>\n",
       "    </tr>\n",
       "    <tr>\n",
       "      <th>4</th>\n",
       "      <td>8</td>\n",
       "      <td>由于全球最大的俄罗斯Uralkaly钾矿被淹，产量大减，同时满洲里口岸铁路在修复线，导致...</td>\n",
       "      <td>['冠农股份']</td>\n",
       "      <td>1</td>\n",
       "    </tr>\n",
       "    <tr>\n",
       "      <th>...</th>\n",
       "      <td>...</td>\n",
       "      <td>...</td>\n",
       "      <td>...</td>\n",
       "      <td>...</td>\n",
       "    </tr>\n",
       "    <tr>\n",
       "      <th>473194</th>\n",
       "      <td>1037031</td>\n",
       "      <td>每经AI快讯，有投资者在投资者互动平台提问：请问公司目前有没有电解槽产能，规划情况能否详细介...</td>\n",
       "      <td>['亿华通']</td>\n",
       "      <td>1</td>\n",
       "    </tr>\n",
       "    <tr>\n",
       "      <th>473195</th>\n",
       "      <td>1037032</td>\n",
       "      <td>依米康（SZ 300249，收盘价：10.38元）发布公告称，2023年10月12日，依米康...</td>\n",
       "      <td>['中泰证券', '依米康']</td>\n",
       "      <td>1</td>\n",
       "    </tr>\n",
       "    <tr>\n",
       "      <th>473196</th>\n",
       "      <td>1037033</td>\n",
       "      <td>天风证券10月13日发布研报称，给予中核科技（000777.SZ，最新价：13.03元）买入...</td>\n",
       "      <td>['中核科技', '天风证券']</td>\n",
       "      <td>1</td>\n",
       "    </tr>\n",
       "    <tr>\n",
       "      <th>473197</th>\n",
       "      <td>1037034</td>\n",
       "      <td>有投资者提问：抗癌药CPT获批后，公司是否应该按照股权协议继续收购沙东股权，适应症为MM的C...</td>\n",
       "      <td>['海特生物']</td>\n",
       "      <td>1</td>\n",
       "    </tr>\n",
       "    <tr>\n",
       "      <th>473198</th>\n",
       "      <td>1037035</td>\n",
       "      <td>10月13日午间，根据恩捷股份发布的公告，持有公司股份5%以上的股东玉溪合益投资有限公司（下...</td>\n",
       "      <td>['恩捷股份']</td>\n",
       "      <td>1</td>\n",
       "    </tr>\n",
       "  </tbody>\n",
       "</table>\n",
       "<p>473199 rows × 4 columns</p>\n",
       "</div>"
      ],
      "text/plain": [
       "         NewsID                                        NewsContent  \\\n",
       "0             1  　　本报记者 田雨 李京华    　　中国建设银行股份有限公司原董事长张恩照受贿案３日一审宣...   \n",
       "1             2  　　中国农业银行信用卡中心由北京搬到上海了！  　　农行行长杨明生日前在信用卡中心揭牌仪式上...   \n",
       "2             3  　　在新基金快速发行以及申购资金回流的情况下，市场总体上呈现资金流动性过剩格局，考虑到现阶段...   \n",
       "3             4  　　胜利股份（000407）公司子公司填海造地2800亩，以青岛的地价估算，静态价值在10亿...   \n",
       "4             8  　　由于全球最大的俄罗斯Uralkaly钾矿被淹，产量大减，同时满洲里口岸铁路在修复线，导致...   \n",
       "...         ...                                                ...   \n",
       "473194  1037031  每经AI快讯，有投资者在投资者互动平台提问：请问公司目前有没有电解槽产能，规划情况能否详细介...   \n",
       "473195  1037032  依米康（SZ 300249，收盘价：10.38元）发布公告称，2023年10月12日，依米康...   \n",
       "473196  1037033  天风证券10月13日发布研报称，给予中核科技（000777.SZ，最新价：13.03元）买入...   \n",
       "473197  1037034  有投资者提问：抗癌药CPT获批后，公司是否应该按照股权协议继续收购沙东股权，适应症为MM的C...   \n",
       "473198  1037035  10月13日午间，根据恩捷股份发布的公告，持有公司股份5%以上的股东玉溪合益投资有限公司（下...   \n",
       "\n",
       "        Explicit_Company  label  \n",
       "0               ['建设银行']      0  \n",
       "1               ['农业银行']      1  \n",
       "2       ['外运发展', '中国国航']      1  \n",
       "3               ['胜利股份']      1  \n",
       "4               ['冠农股份']      1  \n",
       "...                  ...    ...  \n",
       "473194           ['亿华通']      1  \n",
       "473195   ['中泰证券', '依米康']      1  \n",
       "473196  ['中核科技', '天风证券']      1  \n",
       "473197          ['海特生物']      1  \n",
       "473198          ['恩捷股份']      1  \n",
       "\n",
       "[473199 rows x 4 columns]"
      ]
     },
     "execution_count": 21,
     "metadata": {},
     "output_type": "execute_result"
    }
   ],
   "source": [
    "Task1_df"
   ]
  },
  {
   "cell_type": "markdown",
   "metadata": {},
   "source": [
    "========> label: Negative: 0; Postive: 1"
   ]
  },
  {
   "cell_type": "code",
   "execution_count": 2,
   "metadata": {},
   "outputs": [],
   "source": [
    "Task1_df.iloc[:, 1:].to_excel(\"../Data/Task1.xlsx\", index=False)"
   ]
  },
  {
   "cell_type": "code",
   "execution_count": 3,
   "metadata": {},
   "outputs": [
    {
     "data": {
      "text/html": [
       "<div>\n",
       "<style scoped>\n",
       "    .dataframe tbody tr th:only-of-type {\n",
       "        vertical-align: middle;\n",
       "    }\n",
       "\n",
       "    .dataframe tbody tr th {\n",
       "        vertical-align: top;\n",
       "    }\n",
       "\n",
       "    .dataframe thead th {\n",
       "        text-align: right;\n",
       "    }\n",
       "</style>\n",
       "<table border=\"1\" class=\"dataframe\">\n",
       "  <thead>\n",
       "    <tr style=\"text-align: right;\">\n",
       "      <th></th>\n",
       "      <th>NewsID</th>\n",
       "      <th>NewsContent</th>\n",
       "      <th>Explicit_Company</th>\n",
       "      <th>label</th>\n",
       "    </tr>\n",
       "  </thead>\n",
       "  <tbody>\n",
       "    <tr>\n",
       "      <th>0</th>\n",
       "      <td>1</td>\n",
       "      <td>本报记者 田雨 李京华    　　中国建设银行股份有限公司原董事长张恩照受贿案３日一审宣...</td>\n",
       "      <td>建设银行</td>\n",
       "      <td>0</td>\n",
       "    </tr>\n",
       "    <tr>\n",
       "      <th>1</th>\n",
       "      <td>2</td>\n",
       "      <td>中国农业银行信用卡中心由北京搬到上海了！  　　农行行长杨明生日前在信用卡中心揭牌仪式上...</td>\n",
       "      <td>农业银行</td>\n",
       "      <td>1</td>\n",
       "    </tr>\n",
       "    <tr>\n",
       "      <th>2</th>\n",
       "      <td>3</td>\n",
       "      <td>在新基金快速发行以及申购资金回流的情况下，市场总体上呈现资金流动性过剩格局，考虑到现阶段...</td>\n",
       "      <td>外运发展, 中国国航</td>\n",
       "      <td>1</td>\n",
       "    </tr>\n",
       "    <tr>\n",
       "      <th>3</th>\n",
       "      <td>4</td>\n",
       "      <td>胜利股份（000407）公司子公司填海造地2800亩，以青岛的地价估算，静态价值在10亿...</td>\n",
       "      <td>胜利股份</td>\n",
       "      <td>1</td>\n",
       "    </tr>\n",
       "    <tr>\n",
       "      <th>4</th>\n",
       "      <td>8</td>\n",
       "      <td>由于全球最大的俄罗斯Uralkaly钾矿被淹，产量大减，同时满洲里口岸铁路在修复线，导致...</td>\n",
       "      <td>冠农股份</td>\n",
       "      <td>1</td>\n",
       "    </tr>\n",
       "    <tr>\n",
       "      <th>...</th>\n",
       "      <td>...</td>\n",
       "      <td>...</td>\n",
       "      <td>...</td>\n",
       "      <td>...</td>\n",
       "    </tr>\n",
       "    <tr>\n",
       "      <th>473194</th>\n",
       "      <td>1037031</td>\n",
       "      <td>每经AI快讯，有投资者在投资者互动平台提问：请问公司目前有没有电解槽产能，规划情况能否详细介...</td>\n",
       "      <td>亿华通</td>\n",
       "      <td>1</td>\n",
       "    </tr>\n",
       "    <tr>\n",
       "      <th>473195</th>\n",
       "      <td>1037032</td>\n",
       "      <td>依米康（SZ 300249，收盘价：10.38元）发布公告称，2023年10月12日，依米康...</td>\n",
       "      <td>中泰证券, 依米康</td>\n",
       "      <td>1</td>\n",
       "    </tr>\n",
       "    <tr>\n",
       "      <th>473196</th>\n",
       "      <td>1037033</td>\n",
       "      <td>天风证券10月13日发布研报称，给予中核科技（000777.SZ，最新价：13.03元）买入...</td>\n",
       "      <td>中核科技, 天风证券</td>\n",
       "      <td>1</td>\n",
       "    </tr>\n",
       "    <tr>\n",
       "      <th>473197</th>\n",
       "      <td>1037034</td>\n",
       "      <td>有投资者提问：抗癌药CPT获批后，公司是否应该按照股权协议继续收购沙东股权，适应症为MM的C...</td>\n",
       "      <td>海特生物</td>\n",
       "      <td>1</td>\n",
       "    </tr>\n",
       "    <tr>\n",
       "      <th>473198</th>\n",
       "      <td>1037035</td>\n",
       "      <td>10月13日午间，根据恩捷股份发布的公告，持有公司股份5%以上的股东玉溪合益投资有限公司（下...</td>\n",
       "      <td>恩捷股份</td>\n",
       "      <td>1</td>\n",
       "    </tr>\n",
       "  </tbody>\n",
       "</table>\n",
       "<p>473199 rows × 4 columns</p>\n",
       "</div>"
      ],
      "text/plain": [
       "         NewsID                                        NewsContent  \\\n",
       "0             1  　　本报记者 田雨 李京华    　　中国建设银行股份有限公司原董事长张恩照受贿案３日一审宣...   \n",
       "1             2  　　中国农业银行信用卡中心由北京搬到上海了！  　　农行行长杨明生日前在信用卡中心揭牌仪式上...   \n",
       "2             3  　　在新基金快速发行以及申购资金回流的情况下，市场总体上呈现资金流动性过剩格局，考虑到现阶段...   \n",
       "3             4  　　胜利股份（000407）公司子公司填海造地2800亩，以青岛的地价估算，静态价值在10亿...   \n",
       "4             8  　　由于全球最大的俄罗斯Uralkaly钾矿被淹，产量大减，同时满洲里口岸铁路在修复线，导致...   \n",
       "...         ...                                                ...   \n",
       "473194  1037031  每经AI快讯，有投资者在投资者互动平台提问：请问公司目前有没有电解槽产能，规划情况能否详细介...   \n",
       "473195  1037032  依米康（SZ 300249，收盘价：10.38元）发布公告称，2023年10月12日，依米康...   \n",
       "473196  1037033  天风证券10月13日发布研报称，给予中核科技（000777.SZ，最新价：13.03元）买入...   \n",
       "473197  1037034  有投资者提问：抗癌药CPT获批后，公司是否应该按照股权协议继续收购沙东股权，适应症为MM的C...   \n",
       "473198  1037035  10月13日午间，根据恩捷股份发布的公告，持有公司股份5%以上的股东玉溪合益投资有限公司（下...   \n",
       "\n",
       "       Explicit_Company  label  \n",
       "0                  建设银行      0  \n",
       "1                  农业银行      1  \n",
       "2            外运发展, 中国国航      1  \n",
       "3                  胜利股份      1  \n",
       "4                  冠农股份      1  \n",
       "...                 ...    ...  \n",
       "473194              亿华通      1  \n",
       "473195        中泰证券, 依米康      1  \n",
       "473196       中核科技, 天风证券      1  \n",
       "473197             海特生物      1  \n",
       "473198             恩捷股份      1  \n",
       "\n",
       "[473199 rows x 4 columns]"
      ]
     },
     "execution_count": 3,
     "metadata": {},
     "output_type": "execute_result"
    }
   ],
   "source": [
    "pd.read_excel(\"../Data/Task1.xlsx\")"
   ]
  }
 ],
 "metadata": {
  "kernelspec": {
   "display_name": "Python 3 (ipykernel)",
   "language": "python",
   "name": "python3"
  },
  "language_info": {
   "codemirror_mode": {
    "name": "ipython",
    "version": 3
   },
   "file_extension": ".py",
   "mimetype": "text/x-python",
   "name": "python",
   "nbconvert_exporter": "python",
   "pygments_lexer": "ipython3",
   "version": "3.10.12"
  }
 },
 "nbformat": 4,
 "nbformat_minor": 4
}
