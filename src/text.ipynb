{
 "cells": [
  {
   "cell_type": "code",
   "execution_count": 1,
   "metadata": {},
   "outputs": [],
   "source": [
    "import pandas as pd\n",
    "from data import AShareData, NewsData\n",
    "from model import BertWrapper"
   ]
  },
  {
   "cell_type": "code",
   "execution_count": 2,
   "metadata": {},
   "outputs": [],
   "source": [
    "A_share_data = AShareData(data_dir=\"../Data/A-share_list.json\")\n",
    "news_data = NewsData(data_dir=\"../Data/News.xlsx\")"
   ]
  },
  {
   "cell_type": "code",
   "execution_count": 3,
   "metadata": {},
   "outputs": [],
   "source": [
    "name_list = A_share_data.getNameList"
   ]
  },
  {
   "cell_type": "code",
   "execution_count": 4,
   "metadata": {},
   "outputs": [],
   "source": [
    "# clean_data, noise_data = news_data.force_denoise(name_list=name_list)\n",
    "# pd.DataFrame(news_data.grid_search_matrix).to_csv(\"../Data/grid-search-matrix.csv\")"
   ]
  },
  {
   "cell_type": "code",
   "execution_count": 5,
   "metadata": {},
   "outputs": [],
   "source": [
    "grid_search_matrix = pd.read_csv(\"../Data/grid-search-matrix.csv\")\n",
    "news_data.grid_search_matrix = grid_search_matrix"
   ]
  },
  {
   "cell_type": "code",
   "execution_count": 8,
   "metadata": {},
   "outputs": [
    {
     "ename": "MemoryError",
     "evalue": "Unable to allocate 36.0 GiB for an array with shape (4655, 1037035) and data type object",
     "output_type": "error",
     "traceback": [
      "\u001b[1;31m---------------------------------------------------------------------------\u001b[0m",
      "\u001b[1;31mMemoryError\u001b[0m                               Traceback (most recent call last)",
      "\u001b[1;32mc:\\Users\\lenovo\\Desktop\\HKUSTGZ-PG\\Course-project\\DSAA-5002\\Data-mining-Project\\src\\text.ipynb 单元格 8\u001b[0m line \u001b[0;36m3\n\u001b[0;32m      <a href='vscode-notebook-cell:/c%3A/Users/lenovo/Desktop/HKUSTGZ-PG/Course-project/DSAA-5002/Data-mining-Project/src/text.ipynb#X10sZmlsZQ%3D%3D?line=0'>1</a>\u001b[0m \u001b[39m# After the brute force search, we can get the data with explicit A-share company name\u001b[39;00m\n\u001b[0;32m      <a href='vscode-notebook-cell:/c%3A/Users/lenovo/Desktop/HKUSTGZ-PG/Course-project/DSAA-5002/Data-mining-Project/src/text.ipynb#X10sZmlsZQ%3D%3D?line=1'>2</a>\u001b[0m name_list \u001b[39m=\u001b[39m A_share_data\u001b[39m.\u001b[39mgetNameList\n\u001b[1;32m----> <a href='vscode-notebook-cell:/c%3A/Users/lenovo/Desktop/HKUSTGZ-PG/Course-project/DSAA-5002/Data-mining-Project/src/text.ipynb#X10sZmlsZQ%3D%3D?line=2'>3</a>\u001b[0m name \u001b[39m=\u001b[39m news_data\u001b[39m.\u001b[39;49mExplicit_Company_list(name_list)\n",
      "File \u001b[1;32mc:\\Users\\lenovo\\Desktop\\HKUSTGZ-PG\\Course-project\\DSAA-5002\\Data-mining-Project\\src\\data.py:78\u001b[0m, in \u001b[0;36mNewsData.Explicit_Company_list\u001b[1;34m(self, name_list)\u001b[0m\n\u001b[0;32m     77\u001b[0m \u001b[39mdef\u001b[39;00m \u001b[39mExplicit_Company_list\u001b[39m(\u001b[39mself\u001b[39m, name_list: \u001b[39mlist\u001b[39m):\n\u001b[1;32m---> 78\u001b[0m     _, column_indices \u001b[39m=\u001b[39m np\u001b[39m.\u001b[39;49mwhere(\u001b[39mself\u001b[39;49m\u001b[39m.\u001b[39;49mgrid_search_matrix)\n\u001b[0;32m     79\u001b[0m     name_dict \u001b[39m=\u001b[39m \u001b[39mdict\u001b[39m(\u001b[39mzip\u001b[39m(\u001b[39mrange\u001b[39m(\u001b[39mlen\u001b[39m(name_list)), name_list))\n\u001b[0;32m     80\u001b[0m     explicit_name \u001b[39m=\u001b[39m [name_dict[index] \u001b[39mfor\u001b[39;00m index \u001b[39min\u001b[39;00m column_indices]\n",
      "File \u001b[1;32m<__array_function__ internals>:200\u001b[0m, in \u001b[0;36mwhere\u001b[1;34m(*args, **kwargs)\u001b[0m\n",
      "File \u001b[1;32md:\\Program\\Anaconda3\\envs\\bioinfo\\lib\\site-packages\\pandas\\core\\generic.py:1997\u001b[0m, in \u001b[0;36mNDFrame.__array__\u001b[1;34m(self, dtype)\u001b[0m\n\u001b[0;32m   1996\u001b[0m \u001b[39mdef\u001b[39;00m \u001b[39m__array__\u001b[39m(\u001b[39mself\u001b[39m, dtype: npt\u001b[39m.\u001b[39mDTypeLike \u001b[39m|\u001b[39m \u001b[39mNone\u001b[39;00m \u001b[39m=\u001b[39m \u001b[39mNone\u001b[39;00m) \u001b[39m-\u001b[39m\u001b[39m>\u001b[39m np\u001b[39m.\u001b[39mndarray:\n\u001b[1;32m-> 1997\u001b[0m     values \u001b[39m=\u001b[39m \u001b[39mself\u001b[39;49m\u001b[39m.\u001b[39;49m_values\n\u001b[0;32m   1998\u001b[0m     arr \u001b[39m=\u001b[39m np\u001b[39m.\u001b[39masarray(values, dtype\u001b[39m=\u001b[39mdtype)\n\u001b[0;32m   1999\u001b[0m     \u001b[39mif\u001b[39;00m (\n\u001b[0;32m   2000\u001b[0m         astype_is_view(values\u001b[39m.\u001b[39mdtype, arr\u001b[39m.\u001b[39mdtype)\n\u001b[0;32m   2001\u001b[0m         \u001b[39mand\u001b[39;00m using_copy_on_write()\n\u001b[0;32m   2002\u001b[0m         \u001b[39mand\u001b[39;00m \u001b[39mself\u001b[39m\u001b[39m.\u001b[39m_mgr\u001b[39m.\u001b[39mis_single_block\n\u001b[0;32m   2003\u001b[0m     ):\n\u001b[0;32m   2004\u001b[0m         \u001b[39m# Check if both conversions can be done without a copy\u001b[39;00m\n",
      "File \u001b[1;32md:\\Program\\Anaconda3\\envs\\bioinfo\\lib\\site-packages\\pandas\\core\\frame.py:1001\u001b[0m, in \u001b[0;36mDataFrame._values\u001b[1;34m(self)\u001b[0m\n\u001b[0;32m    999\u001b[0m blocks \u001b[39m=\u001b[39m mgr\u001b[39m.\u001b[39mblocks\n\u001b[0;32m   1000\u001b[0m \u001b[39mif\u001b[39;00m \u001b[39mlen\u001b[39m(blocks) \u001b[39m!=\u001b[39m \u001b[39m1\u001b[39m:\n\u001b[1;32m-> 1001\u001b[0m     \u001b[39mreturn\u001b[39;00m ensure_wrapped_if_datetimelike(\u001b[39mself\u001b[39;49m\u001b[39m.\u001b[39;49mvalues)\n\u001b[0;32m   1003\u001b[0m arr \u001b[39m=\u001b[39m blocks[\u001b[39m0\u001b[39m]\u001b[39m.\u001b[39mvalues\n\u001b[0;32m   1004\u001b[0m \u001b[39mif\u001b[39;00m arr\u001b[39m.\u001b[39mndim \u001b[39m==\u001b[39m \u001b[39m1\u001b[39m:\n\u001b[0;32m   1005\u001b[0m     \u001b[39m# non-2D ExtensionArray\u001b[39;00m\n",
      "File \u001b[1;32md:\\Program\\Anaconda3\\envs\\bioinfo\\lib\\site-packages\\pandas\\core\\frame.py:11360\u001b[0m, in \u001b[0;36mDataFrame.values\u001b[1;34m(self)\u001b[0m\n\u001b[0;32m  11286\u001b[0m \u001b[39m@property\u001b[39m\n\u001b[0;32m  11287\u001b[0m \u001b[39mdef\u001b[39;00m \u001b[39mvalues\u001b[39m(\u001b[39mself\u001b[39m) \u001b[39m-\u001b[39m\u001b[39m>\u001b[39m np\u001b[39m.\u001b[39mndarray:\n\u001b[0;32m  11288\u001b[0m \u001b[39m    \u001b[39m\u001b[39m\"\"\"\u001b[39;00m\n\u001b[0;32m  11289\u001b[0m \u001b[39m    Return a Numpy representation of the DataFrame.\u001b[39;00m\n\u001b[0;32m  11290\u001b[0m \n\u001b[1;32m   (...)\u001b[0m\n\u001b[0;32m  11358\u001b[0m \u001b[39m           ['monkey', nan, None]], dtype=object)\u001b[39;00m\n\u001b[0;32m  11359\u001b[0m \u001b[39m    \"\"\"\u001b[39;00m\n\u001b[1;32m> 11360\u001b[0m     \u001b[39mreturn\u001b[39;00m \u001b[39mself\u001b[39;49m\u001b[39m.\u001b[39;49m_mgr\u001b[39m.\u001b[39;49mas_array()\n",
      "File \u001b[1;32md:\\Program\\Anaconda3\\envs\\bioinfo\\lib\\site-packages\\pandas\\core\\internals\\managers.py:1732\u001b[0m, in \u001b[0;36mBlockManager.as_array\u001b[1;34m(self, dtype, copy, na_value)\u001b[0m\n\u001b[0;32m   1730\u001b[0m         arr\u001b[39m.\u001b[39mflags\u001b[39m.\u001b[39mwriteable \u001b[39m=\u001b[39m \u001b[39mFalse\u001b[39;00m\n\u001b[0;32m   1731\u001b[0m \u001b[39melse\u001b[39;00m:\n\u001b[1;32m-> 1732\u001b[0m     arr \u001b[39m=\u001b[39m \u001b[39mself\u001b[39;49m\u001b[39m.\u001b[39;49m_interleave(dtype\u001b[39m=\u001b[39;49mdtype, na_value\u001b[39m=\u001b[39;49mna_value)\n\u001b[0;32m   1733\u001b[0m     \u001b[39m# The underlying data was copied within _interleave, so no need\u001b[39;00m\n\u001b[0;32m   1734\u001b[0m     \u001b[39m# to further copy if copy=True or setting na_value\u001b[39;00m\n\u001b[0;32m   1736\u001b[0m \u001b[39mif\u001b[39;00m na_value \u001b[39mis\u001b[39;00m \u001b[39mnot\u001b[39;00m lib\u001b[39m.\u001b[39mno_default:\n",
      "File \u001b[1;32md:\\Program\\Anaconda3\\envs\\bioinfo\\lib\\site-packages\\pandas\\core\\internals\\managers.py:1768\u001b[0m, in \u001b[0;36mBlockManager._interleave\u001b[1;34m(self, dtype, na_value)\u001b[0m\n\u001b[0;32m   1765\u001b[0m \u001b[39melif\u001b[39;00m is_dtype_equal(dtype, \u001b[39mstr\u001b[39m):\n\u001b[0;32m   1766\u001b[0m     dtype \u001b[39m=\u001b[39m np\u001b[39m.\u001b[39mdtype(\u001b[39m\"\u001b[39m\u001b[39mobject\u001b[39m\u001b[39m\"\u001b[39m)\n\u001b[1;32m-> 1768\u001b[0m result \u001b[39m=\u001b[39m np\u001b[39m.\u001b[39;49mempty(\u001b[39mself\u001b[39;49m\u001b[39m.\u001b[39;49mshape, dtype\u001b[39m=\u001b[39;49mdtype)\n\u001b[0;32m   1770\u001b[0m itemmask \u001b[39m=\u001b[39m np\u001b[39m.\u001b[39mzeros(\u001b[39mself\u001b[39m\u001b[39m.\u001b[39mshape[\u001b[39m0\u001b[39m])\n\u001b[0;32m   1772\u001b[0m \u001b[39mif\u001b[39;00m dtype \u001b[39m==\u001b[39m np\u001b[39m.\u001b[39mdtype(\u001b[39m\"\u001b[39m\u001b[39mobject\u001b[39m\u001b[39m\"\u001b[39m) \u001b[39mand\u001b[39;00m na_value \u001b[39mis\u001b[39;00m lib\u001b[39m.\u001b[39mno_default:\n\u001b[0;32m   1773\u001b[0m     \u001b[39m# much more performant than using to_numpy below\u001b[39;00m\n",
      "\u001b[1;31mMemoryError\u001b[0m: Unable to allocate 36.0 GiB for an array with shape (4655, 1037035) and data type object"
     ]
    }
   ],
   "source": [
    "# After the brute force search, we can get the data with explicit A-share company name\n",
    "name_list = A_share_data.getNameList\n",
    "name = news_data.Explicit_Company_list(name_list)"
   ]
  },
  {
   "cell_type": "code",
   "execution_count": 9,
   "metadata": {},
   "outputs": [
    {
     "name": "stdout",
     "output_type": "stream",
     "text": [
      "Begin Training!\n"
     ]
    },
    {
     "name": "stderr",
     "output_type": "stream",
     "text": [
      "  0%|          | 39/29703 [01:44<21:48:13,  2.65s/it]"
     ]
    }
   ],
   "source": [
    "Bert = BertWrapper(model_name=\"hw2942/bert-base-chinese-finetuning-financial-news-sentiment-v2\")\n",
    "outputs = Bert.predict(batch_size=16, dataPath=\"../Data/clean_data.csv\")"
   ]
  },
  {
   "cell_type": "code",
   "execution_count": null,
   "metadata": {},
   "outputs": [],
   "source": [
    "labels = Bert.convert_label(outputs=outputs)\n",
    "labels"
   ]
  },
  {
   "cell_type": "code",
   "execution_count": null,
   "metadata": {},
   "outputs": [],
   "source": []
  }
 ],
 "metadata": {
  "kernelspec": {
   "display_name": "bioinfo",
   "language": "python",
   "name": "python3"
  },
  "language_info": {
   "codemirror_mode": {
    "name": "ipython",
    "version": 3
   },
   "file_extension": ".py",
   "mimetype": "text/x-python",
   "name": "python",
   "nbconvert_exporter": "python",
   "pygments_lexer": "ipython3",
   "version": "3.10.12"
  }
 },
 "nbformat": 4,
 "nbformat_minor": 2
}
